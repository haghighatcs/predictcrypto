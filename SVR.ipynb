{
 "metadata": {
  "language_info": {
   "codemirror_mode": {
    "name": "ipython",
    "version": 3
   },
   "file_extension": ".py",
   "mimetype": "text/x-python",
   "name": "python",
   "nbconvert_exporter": "python",
   "pygments_lexer": "ipython3",
   "version": "3.7.9-final"
  },
  "orig_nbformat": 2,
  "kernelspec": {
   "name": "Python 3.7.9 64-bit (conda)",
   "display_name": "Python 3.7.9 64-bit (conda)",
   "metadata": {
    "interpreter": {
     "hash": "4756023a4fb128e6390ae53f8b7701a85901a6fa7675a4422e3acb41ae295a0c"
    }
   }
  }
 },
 "nbformat": 4,
 "nbformat_minor": 2,
 "cells": [
  {
   "cell_type": "code",
   "execution_count": 1,
   "metadata": {},
   "outputs": [],
   "source": [
    "import numpy as np \n",
    "import pandas as pd"
   ]
  },
  {
   "cell_type": "code",
   "execution_count": 2,
   "metadata": {},
   "outputs": [
    {
     "output_type": "execute_result",
     "data": {
      "text/plain": [
       "       BTC     ETH   XRP  USDT     BSV     BCH    LTC   EOS   BNB   ADA\n",
       "0  6385.62  210.07  0.50  0.99   68.75  544.42  51.90  5.38  9.55  0.07\n",
       "1  6409.22  212.53  0.51  1.00   87.06  556.50  52.40  5.42  9.56  0.08\n",
       "2  6411.27  211.34  0.51  0.99  113.47  533.34  51.36  5.44  9.47  0.08"
      ],
      "text/html": "<div>\n<style scoped>\n    .dataframe tbody tr th:only-of-type {\n        vertical-align: middle;\n    }\n\n    .dataframe tbody tr th {\n        vertical-align: top;\n    }\n\n    .dataframe thead th {\n        text-align: right;\n    }\n</style>\n<table border=\"1\" class=\"dataframe\">\n  <thead>\n    <tr style=\"text-align: right;\">\n      <th></th>\n      <th>BTC</th>\n      <th>ETH</th>\n      <th>XRP</th>\n      <th>USDT</th>\n      <th>BSV</th>\n      <th>BCH</th>\n      <th>LTC</th>\n      <th>EOS</th>\n      <th>BNB</th>\n      <th>ADA</th>\n    </tr>\n  </thead>\n  <tbody>\n    <tr>\n      <th>0</th>\n      <td>6385.62</td>\n      <td>210.07</td>\n      <td>0.50</td>\n      <td>0.99</td>\n      <td>68.75</td>\n      <td>544.42</td>\n      <td>51.90</td>\n      <td>5.38</td>\n      <td>9.55</td>\n      <td>0.07</td>\n    </tr>\n    <tr>\n      <th>1</th>\n      <td>6409.22</td>\n      <td>212.53</td>\n      <td>0.51</td>\n      <td>1.00</td>\n      <td>87.06</td>\n      <td>556.50</td>\n      <td>52.40</td>\n      <td>5.42</td>\n      <td>9.56</td>\n      <td>0.08</td>\n    </tr>\n    <tr>\n      <th>2</th>\n      <td>6411.27</td>\n      <td>211.34</td>\n      <td>0.51</td>\n      <td>0.99</td>\n      <td>113.47</td>\n      <td>533.34</td>\n      <td>51.36</td>\n      <td>5.44</td>\n      <td>9.47</td>\n      <td>0.08</td>\n    </tr>\n  </tbody>\n</table>\n</div>"
     },
     "metadata": {},
     "execution_count": 2
    }
   ],
   "source": [
    "#Store the data into the variable df\n",
    "df = pd.read_csv('data.csv')\n",
    "#Remove the Date column\n",
    "df = df.drop(['BTCTOMORROW' , 'Date'], 1)\n",
    "df.head(3)"
   ]
  },
  {
   "cell_type": "code",
   "execution_count": 3,
   "metadata": {},
   "outputs": [],
   "source": [
    "df.dropna(inplace=True)\n",
    "\n",
    "#A variable for predicting 'n' days out into the future\n",
    "prediction_days = 1 #n = 1 days\n",
    "\n",
    "#Create another column (the target or dependent variable) shifted 'n' units up\n",
    "df['Prediction'] = df[['BTC']].shift(-prediction_days)\n",
    "df['percent_change'] = ((df['Prediction']-df['BTC'])/df['BTC']) * 100\n",
    "df.dropna(inplace=True)"
   ]
  },
  {
   "cell_type": "code",
   "execution_count": 4,
   "metadata": {},
   "outputs": [
    {
     "output_type": "execute_result",
     "data": {
      "text/plain": [
       "          BTC     ETH   XRP  USDT     BSV     BCH    LTC   EOS    BNB   ADA  \\\n",
       "669  10131.52  337.60  0.24   1.0  170.57  222.54  47.38  2.76  23.19  0.09   \n",
       "670  10242.35  351.11  0.24   1.0  169.58  224.68  47.90  2.76  24.53  0.09   \n",
       "671  10363.14  368.10  0.24   1.0  166.70  227.71  48.72  2.78  24.56  0.10   \n",
       "\n",
       "     Prediction  percent_change  \n",
       "669    10242.35        1.093913  \n",
       "670    10363.14        1.179319  \n",
       "671    10400.91        0.364465  "
      ],
      "text/html": "<div>\n<style scoped>\n    .dataframe tbody tr th:only-of-type {\n        vertical-align: middle;\n    }\n\n    .dataframe tbody tr th {\n        vertical-align: top;\n    }\n\n    .dataframe thead th {\n        text-align: right;\n    }\n</style>\n<table border=\"1\" class=\"dataframe\">\n  <thead>\n    <tr style=\"text-align: right;\">\n      <th></th>\n      <th>BTC</th>\n      <th>ETH</th>\n      <th>XRP</th>\n      <th>USDT</th>\n      <th>BSV</th>\n      <th>BCH</th>\n      <th>LTC</th>\n      <th>EOS</th>\n      <th>BNB</th>\n      <th>ADA</th>\n      <th>Prediction</th>\n      <th>percent_change</th>\n    </tr>\n  </thead>\n  <tbody>\n    <tr>\n      <th>669</th>\n      <td>10131.52</td>\n      <td>337.60</td>\n      <td>0.24</td>\n      <td>1.0</td>\n      <td>170.57</td>\n      <td>222.54</td>\n      <td>47.38</td>\n      <td>2.76</td>\n      <td>23.19</td>\n      <td>0.09</td>\n      <td>10242.35</td>\n      <td>1.093913</td>\n    </tr>\n    <tr>\n      <th>670</th>\n      <td>10242.35</td>\n      <td>351.11</td>\n      <td>0.24</td>\n      <td>1.0</td>\n      <td>169.58</td>\n      <td>224.68</td>\n      <td>47.90</td>\n      <td>2.76</td>\n      <td>24.53</td>\n      <td>0.09</td>\n      <td>10363.14</td>\n      <td>1.179319</td>\n    </tr>\n    <tr>\n      <th>671</th>\n      <td>10363.14</td>\n      <td>368.10</td>\n      <td>0.24</td>\n      <td>1.0</td>\n      <td>166.70</td>\n      <td>227.71</td>\n      <td>48.72</td>\n      <td>2.78</td>\n      <td>24.56</td>\n      <td>0.10</td>\n      <td>10400.91</td>\n      <td>0.364465</td>\n    </tr>\n  </tbody>\n</table>\n</div>"
     },
     "metadata": {},
     "execution_count": 4
    }
   ],
   "source": [
    "#Show the last 7 rows of the new data set\n",
    "df.tail(3)"
   ]
  },
  {
   "cell_type": "code",
   "execution_count": 5,
   "metadata": {},
   "outputs": [
    {
     "output_type": "execute_result",
     "data": {
      "text/plain": [
       "          BTC     ETH   XRP  USDT     BSV     BCH    LTC   EOS    BNB   ADA  \\\n",
       "662  11970.48  477.05  0.30  1.00  203.67  292.72  62.88  3.48  24.82  0.13   \n",
       "663  11414.03  440.04  0.28  1.00  183.57  264.12  58.10  3.10  24.69  0.12   \n",
       "664  10245.30  385.67  0.25  1.01  152.35  216.06  47.77  2.64  20.62  0.10   \n",
       "665  10511.81  388.24  0.26  1.00  160.56  231.87  50.61  3.01  21.06  0.10   \n",
       "666  10169.57  335.26  0.24  1.00  162.10  225.30  47.59  2.93  19.48  0.09   \n",
       "667  10280.35  353.36  0.24  1.00  163.50  228.45  48.05  2.91  23.19  0.09   \n",
       "668  10369.56  352.67  0.24  1.00  174.15  228.61  48.77  2.85  22.39  0.09   \n",
       "669  10131.52  337.60  0.24  1.00  170.57  222.54  47.38  2.76  23.19  0.09   \n",
       "670  10242.35  351.11  0.24  1.00  169.58  224.68  47.90  2.76  24.53  0.09   \n",
       "671  10363.14  368.10  0.24  1.00  166.70  227.71  48.72  2.78  24.56  0.10   \n",
       "\n",
       "     Prediction  percent_change  \n",
       "662    11414.03       -4.648519  \n",
       "663    10245.30      -10.239416  \n",
       "664    10511.81        2.601290  \n",
       "665    10169.57       -3.255767  \n",
       "666    10280.35        1.089328  \n",
       "667    10369.56        0.867772  \n",
       "668    10131.52       -2.295565  \n",
       "669    10242.35        1.093913  \n",
       "670    10363.14        1.179319  \n",
       "671    10400.91        0.364465  "
      ],
      "text/html": "<div>\n<style scoped>\n    .dataframe tbody tr th:only-of-type {\n        vertical-align: middle;\n    }\n\n    .dataframe tbody tr th {\n        vertical-align: top;\n    }\n\n    .dataframe thead th {\n        text-align: right;\n    }\n</style>\n<table border=\"1\" class=\"dataframe\">\n  <thead>\n    <tr style=\"text-align: right;\">\n      <th></th>\n      <th>BTC</th>\n      <th>ETH</th>\n      <th>XRP</th>\n      <th>USDT</th>\n      <th>BSV</th>\n      <th>BCH</th>\n      <th>LTC</th>\n      <th>EOS</th>\n      <th>BNB</th>\n      <th>ADA</th>\n      <th>Prediction</th>\n      <th>percent_change</th>\n    </tr>\n  </thead>\n  <tbody>\n    <tr>\n      <th>662</th>\n      <td>11970.48</td>\n      <td>477.05</td>\n      <td>0.30</td>\n      <td>1.00</td>\n      <td>203.67</td>\n      <td>292.72</td>\n      <td>62.88</td>\n      <td>3.48</td>\n      <td>24.82</td>\n      <td>0.13</td>\n      <td>11414.03</td>\n      <td>-4.648519</td>\n    </tr>\n    <tr>\n      <th>663</th>\n      <td>11414.03</td>\n      <td>440.04</td>\n      <td>0.28</td>\n      <td>1.00</td>\n      <td>183.57</td>\n      <td>264.12</td>\n      <td>58.10</td>\n      <td>3.10</td>\n      <td>24.69</td>\n      <td>0.12</td>\n      <td>10245.30</td>\n      <td>-10.239416</td>\n    </tr>\n    <tr>\n      <th>664</th>\n      <td>10245.30</td>\n      <td>385.67</td>\n      <td>0.25</td>\n      <td>1.01</td>\n      <td>152.35</td>\n      <td>216.06</td>\n      <td>47.77</td>\n      <td>2.64</td>\n      <td>20.62</td>\n      <td>0.10</td>\n      <td>10511.81</td>\n      <td>2.601290</td>\n    </tr>\n    <tr>\n      <th>665</th>\n      <td>10511.81</td>\n      <td>388.24</td>\n      <td>0.26</td>\n      <td>1.00</td>\n      <td>160.56</td>\n      <td>231.87</td>\n      <td>50.61</td>\n      <td>3.01</td>\n      <td>21.06</td>\n      <td>0.10</td>\n      <td>10169.57</td>\n      <td>-3.255767</td>\n    </tr>\n    <tr>\n      <th>666</th>\n      <td>10169.57</td>\n      <td>335.26</td>\n      <td>0.24</td>\n      <td>1.00</td>\n      <td>162.10</td>\n      <td>225.30</td>\n      <td>47.59</td>\n      <td>2.93</td>\n      <td>19.48</td>\n      <td>0.09</td>\n      <td>10280.35</td>\n      <td>1.089328</td>\n    </tr>\n    <tr>\n      <th>667</th>\n      <td>10280.35</td>\n      <td>353.36</td>\n      <td>0.24</td>\n      <td>1.00</td>\n      <td>163.50</td>\n      <td>228.45</td>\n      <td>48.05</td>\n      <td>2.91</td>\n      <td>23.19</td>\n      <td>0.09</td>\n      <td>10369.56</td>\n      <td>0.867772</td>\n    </tr>\n    <tr>\n      <th>668</th>\n      <td>10369.56</td>\n      <td>352.67</td>\n      <td>0.24</td>\n      <td>1.00</td>\n      <td>174.15</td>\n      <td>228.61</td>\n      <td>48.77</td>\n      <td>2.85</td>\n      <td>22.39</td>\n      <td>0.09</td>\n      <td>10131.52</td>\n      <td>-2.295565</td>\n    </tr>\n    <tr>\n      <th>669</th>\n      <td>10131.52</td>\n      <td>337.60</td>\n      <td>0.24</td>\n      <td>1.00</td>\n      <td>170.57</td>\n      <td>222.54</td>\n      <td>47.38</td>\n      <td>2.76</td>\n      <td>23.19</td>\n      <td>0.09</td>\n      <td>10242.35</td>\n      <td>1.093913</td>\n    </tr>\n    <tr>\n      <th>670</th>\n      <td>10242.35</td>\n      <td>351.11</td>\n      <td>0.24</td>\n      <td>1.00</td>\n      <td>169.58</td>\n      <td>224.68</td>\n      <td>47.90</td>\n      <td>2.76</td>\n      <td>24.53</td>\n      <td>0.09</td>\n      <td>10363.14</td>\n      <td>1.179319</td>\n    </tr>\n    <tr>\n      <th>671</th>\n      <td>10363.14</td>\n      <td>368.10</td>\n      <td>0.24</td>\n      <td>1.00</td>\n      <td>166.70</td>\n      <td>227.71</td>\n      <td>48.72</td>\n      <td>2.78</td>\n      <td>24.56</td>\n      <td>0.10</td>\n      <td>10400.91</td>\n      <td>0.364465</td>\n    </tr>\n  </tbody>\n</table>\n</div>"
     },
     "metadata": {},
     "execution_count": 5
    }
   ],
   "source": [
    "# X is the input variable\n",
    "X = df\n",
    "\n",
    "# Y is the target or output variable\n",
    "y = np.where((df['BTC'].shift(-1) - df['BTC']) > 0, 1, -1)\n",
    "df.tail(10)"
   ]
  },
  {
   "cell_type": "code",
   "execution_count": 6,
   "metadata": {},
   "outputs": [
    {
     "output_type": "execute_result",
     "data": {
      "text/plain": [
       "537"
      ]
     },
     "metadata": {},
     "execution_count": 6
    }
   ],
   "source": [
    "# Total dataset length\n",
    "dataset_length = df.shape[0]\n",
    "\n",
    "# Training dataset length\n",
    "split = int(dataset_length * 0.80)\n",
    "split"
   ]
  },
  {
   "cell_type": "code",
   "execution_count": 7,
   "metadata": {
    "tags": []
   },
   "outputs": [
    {
     "output_type": "stream",
     "name": "stdout",
     "text": [
      "(537, 12) (135, 12)\n(537,) (135,)\n"
     ]
    }
   ],
   "source": [
    "# Splitiing the X and y into train and test datasets\n",
    "X_train, X_test = X[:split], X[split:]\n",
    "y_train, y_test = y[:split], y[split:]\n",
    "\n",
    "# Print the size of the train and test dataset\n",
    "print(X_train.shape, X_test.shape)\n",
    "print(y_train.shape, y_test.shape)"
   ]
  },
  {
   "cell_type": "code",
   "execution_count": 8,
   "metadata": {
    "tags": []
   },
   "outputs": [
    {
     "output_type": "stream",
     "name": "stdout",
     "text": [
      "[[ 6.38562000e+03  2.10070000e+02  5.00000000e-01 ...  9.55000000e+00\n   7.00000000e-02  3.69580401e-01]\n [ 6.40922000e+03  2.12530000e+02  5.10000000e-01 ...  9.56000000e+00\n   8.00000000e-02  3.19851714e-02]\n [ 6.41127000e+03  2.11340000e+02  5.10000000e-01 ...  9.47000000e+00\n   8.00000000e-02 -6.23901349e-01]\n ...\n [ 1.03695600e+04  3.52670000e+02  2.40000000e-01 ...  2.23900000e+01\n   9.00000000e-02 -2.29556510e+00]\n [ 1.01315200e+04  3.37600000e+02  2.40000000e-01 ...  2.31900000e+01\n   9.00000000e-02  1.09391286e+00]\n [ 1.02423500e+04  3.51110000e+02  2.40000000e-01 ...  2.45300000e+01\n   9.00000000e-02  1.17931920e+00]]\n"
     ]
    }
   ],
   "source": [
    "#CREATE THE INDEPENDENT DATA SET (X)\n",
    "\n",
    "# Convert the dataframe to a numpy array and drop the prediction column\n",
    "X = np.array(df.drop(['Prediction'],1))\n",
    "\n",
    "#Remove the last 'n' rows where 'n' is the prediction_days\n",
    "X= X[:len(df)-prediction_days]\n",
    "print(X)"
   ]
  },
  {
   "cell_type": "code",
   "execution_count": 9,
   "metadata": {
    "tags": []
   },
   "outputs": [
    {
     "output_type": "stream",
     "name": "stdout",
     "text": [
      "[ 6409.22  6411.27  6371.27  6359.49  5738.35  5648.03  5575.55  5554.33\n  5623.54  4871.49  4451.87  4602.17  4365.94  4347.11  3880.76  4009.97\n  3779.13  3820.72  4257.42  4278.85  4017.27  4214.67  4139.88  3894.13\n  3956.89  3753.99  3521.1   3419.94  3476.11  3614.23  3502.66  3424.59\n  3486.95  3313.68  3242.48  3236.76  3252.84  3545.86  3696.06  3745.95\n  4134.44  3896.54  4014.18  3998.98  4078.6   3815.49  3857.3   3654.83\n  3923.92  3820.41  3865.95  3742.7   3843.52  3943.41  3836.74  3857.72\n  3845.19  4076.63  4025.25  4030.85  4035.3   3678.92  3687.37  3661.3\n  3552.95  3706.05  3630.68  3655.01  3678.56  3657.84  3728.57  3601.01\n  3576.03  3604.58  3585.12  3600.87  3599.77  3602.46  3583.97  3470.45\n  3448.12  3486.18  3457.79  3487.95  3521.06  3464.01  3459.15  3466.36\n  3413.77  3399.47  3666.78  3671.2   3690.19  3648.43  3653.53  3632.07\n  3616.88  3620.81  3629.79  3673.84  3915.71  3947.09  3999.82  3954.12\n  4005.53  4142.53  3810.43  3882.7   3854.36  3851.05  3854.79  3859.58\n  3864.42  3847.18  3761.56  3896.38  3903.94  3911.48  3901.13  3963.31\n  3951.6   3905.23  3909.16  3906.72  3924.37  3960.91  4048.73  4025.23\n  4032.51  4071.19  4087.48  4029.33  4023.97  4035.83  4022.17  3963.07\n  3985.08  4087.07  4069.11  4098.37  4106.66  4105.4   4158.18  4879.88\n  4973.02  4922.8   5036.68  5059.82  5198.9   5289.77  5204.96  5324.55\n  5064.49  5089.54  5096.59  5167.72  5067.11  5235.56  5251.94  5298.39\n  5303.81  5337.89  5314.53  5399.37  5572.36  5464.87  5210.52  5279.35\n  5268.29  5285.14  5247.35  5350.73  5402.7   5505.28  5768.29  5831.17\n  5795.71  5746.81  5829.5   5982.46  6174.53  6378.85  7204.77  6972.37\n  7814.92  7994.42  8205.17  7884.91  7343.9   7271.21  8197.69  7978.31\n  7963.33  7680.07  7881.85  7987.37  8052.54  8673.22  8805.78  8719.96\n  8659.49  8319.47  8574.5   8564.02  8742.96  8208.99  7707.77  7824.23\n  7822.02  8043.95  7954.13  7688.08  8000.33  7927.71  8145.86  8230.92\n  8693.83  8838.38  8994.49  9320.35  9081.76  9273.52  9527.16 10144.56\n 10701.69 10855.37 11011.1  11790.92 13016.23 11182.81 12407.33 11959.37\n 10817.16 10583.13 10801.68 11961.27 11215.44 10978.46 11208.55 11450.85\n 12285.96 12573.81 12156.51 11358.66 11815.99 11392.38 10256.06 10895.09\n  9477.64  9693.8  10666.48 10530.73 10767.14 10599.11 10343.11  9900.77\n  9811.93  9911.84  9870.3   9477.68  9552.86  9519.15  9607.42 10085.63\n 10399.67 10518.17 10821.73 10970.18 11805.65 11478.17 11941.97 11966.41\n 11862.94 11354.02 11523.58 11382.62 10895.83 10051.7  10311.55 10374.34\n 10231.74 10345.81 10916.05 10763.23 10138.05 10131.06 10407.97 10159.96\n 10138.52 10370.82 10185.5   9754.42  9510.2   9598.17  9630.66  9757.97\n 10346.76 10623.54 10594.49 10575.53 10353.3  10517.25 10441.28 10334.97\n 10115.98 10178.37 10410.13 10360.55 10358.05 10347.71 10276.79 10241.27\n 10198.25 10266.41 10181.64 10019.72 10070.39  9729.32  8620.57  8486.99\n  8118.97  8251.85  8245.92  8104.19  8293.87  8343.28  8393.04  8259.99\n  8205.94  8151.5   7988.16  8245.62  8228.78  8595.74  8586.47  8321.76\n  8336.56  8321.01  8374.69  8205.37  8047.53  8103.91  7973.21  7988.56\n  8222.08  8243.72  8078.2   7514.67  7493.49  8660.7   9244.97  9551.71\n  9256.15  9427.69  9205.73  9199.58  9261.1   9324.72  9235.35  9412.61\n  9342.53  9360.88  9267.56  8804.88  8813.58  9055.53  8757.79  8815.66\n  8808.26  8708.1   8491.99  8550.76  8577.98  8309.29  8206.15  8027.27\n  7642.75  7296.58  7397.8   7047.92  7146.13  7218.37  7531.66  7463.11\n  7761.24  7569.63  7424.29  7321.99  7320.15  7252.03  7448.31  7547.\n  7556.24  7564.35  7400.9   7278.12  7217.43  7243.13  7269.68  7124.67\n  7152.3   6932.48  6640.52  7276.8   7202.84  7218.82  7191.16  7511.59\n  7355.63  7322.53  7275.16  7238.97  7290.09  7317.99  7422.65  7293.\n  7193.6   7200.17  6985.47  7344.88  7410.66  7411.32  7769.22  8163.69\n  8079.86  7879.07  8166.55  8037.54  8192.49  8144.19  8827.76  8807.01\n  8723.79  8929.04  8942.81  8706.25  8657.64  8745.89  8680.88  8406.52\n  8445.43  8367.85  8596.83  8909.82  9358.59  9316.63  9508.99  9350.53\n  9392.88  9344.37  9293.52  9180.96  9613.42  9729.8   9795.94  9865.12\n 10116.67  9856.61 10208.24 10326.05 10214.38 10312.12  9889.42  9934.43\n  9690.14 10142.    9633.39  9608.48  9686.44  9663.18  9924.52  9650.17\n  9341.71  8820.52  8784.49  8672.46  8599.51  8562.45  8869.67  8787.79\n  8755.25  9078.76  9122.55  8909.95  8108.12  7923.64  7909.73  7911.43\n  4970.79  5563.71  5200.37  5392.31  5014.48  5225.63  5238.44  6191.19\n  6198.78  6185.07  5830.25  6416.31  6734.8   6681.06  6716.44  6469.8\n  6242.19  5922.04  6429.84  6438.64  6606.78  6793.62  6733.39  6867.53\n  6791.13  7271.78  7176.41  7334.1   7302.09  6865.49  6859.08  6971.09\n  6845.04  6842.43  6642.11  7116.8   7096.18  7257.66  7189.42  6881.96\n  6880.32  7117.21  7429.72  7550.9   7569.94  7679.87  7795.6   7807.06\n  8801.04  8658.55  8864.77  8988.6   8897.47  8912.65  9003.07  9268.76\n  9951.52  9842.67  9593.9   8756.43  8601.8   8804.48  9269.99  9733.72\n  9328.2   9377.01  9670.74  9726.57  9729.04  9522.98  9081.76  9182.58\n  9209.29  8790.37  8906.93  8835.05  9181.02  9525.75  9439.12  9700.41\n  9461.06 10167.27  9529.8   9656.72  9800.64  9665.53  9653.68  9758.85\n  9771.49  9795.7   9870.09  9321.78  9480.84  9475.28  9386.79  9450.7\n  9538.02  9480.26  9411.84  9288.02  9332.34  9303.63  9648.72  9629.66\n  9313.61  9264.81  9162.92  9045.39  9143.58  9190.85  9137.99  9228.33\n  9123.41  9087.3   9132.49  9073.94  9375.47  9252.28  9428.33  9277.97\n  9278.81  9240.35  9276.5   9243.61  9243.21  9192.84  9132.23  9151.39\n  9159.04  9185.82  9164.23  9374.89  9525.36  9581.07  9536.89  9677.11\n  9905.17 10990.87 10912.82 11100.47 11111.21 11323.47 11759.59 11053.61\n 11246.35 11205.89 11747.02 11779.77 11601.47 11754.05 11675.74 11878.11\n 11410.53 11584.93 11784.14 11768.87 11865.7  11892.8  12254.4  11991.23\n 11758.28 11878.37 11592.49 11681.83 11664.85 11774.6  11366.14 11488.36\n 11323.4  11542.5  11506.87 11711.51 11680.82 11970.48 11414.03 10245.3\n 10511.81 10169.57 10280.35 10369.56 10131.52 10242.35 10363.14]\n"
     ]
    }
   ],
   "source": [
    "# CREATE THE DEPENDENT DATA SET (y) \n",
    "# Convert the dataframe to a numpy array (All of the values including the NaN's) \n",
    "y = np.array(df['Prediction'])  \n",
    "# Get all of the y values except the last 'n' rows \n",
    "y = y[:-prediction_days] \n",
    "print(y)"
   ]
  },
  {
   "cell_type": "code",
   "execution_count": null,
   "metadata": {},
   "outputs": [],
   "source": [
    "# X = df[['BTC', 'ETH', 'XRP', 'USDT', 'BSV', 'BCH', 'LTC', 'EOS', 'BNB', 'ADA']].values\n",
    "# y = df['BTCTOMORROW'].values\n",
    "# #A variable for predicting 'n' days out into the future\n",
    "# # prediction_days = 1 #n = 1 days\n",
    "\n",
    "# # #Create another column (the target or dependent variable) shifted 'n' units up\n",
    "# df.tail(3)"
   ]
  },
  {
   "cell_type": "code",
   "execution_count": 10,
   "metadata": {
    "tags": []
   },
   "outputs": [],
   "source": [
    "# Split the data into 80% training and 20% testing\n",
    "from sklearn.model_selection import train_test_split\n",
    "X_train, X_test, y_train, y_test = train_test_split(X, y, test_size=0.2)"
   ]
  },
  {
   "cell_type": "code",
   "execution_count": 11,
   "metadata": {
    "tags": []
   },
   "outputs": [
    {
     "output_type": "stream",
     "name": "stdout",
     "text": [
      "[[1.03631400e+04 3.68100000e+02 2.40000000e-01 1.00000000e+00\n  1.66700000e+02 2.27710000e+02 4.87200000e+01 2.78000000e+00\n  2.45600000e+01 1.00000000e-01 3.64464824e-01]]\n"
     ]
    }
   ],
   "source": [
    "# Set prediction_days_array equal to the last 30 rows of the original data set from the price column\n",
    "prediction_days_array = np.array(df.drop(['Prediction'],1))[-prediction_days:]\n",
    "print(prediction_days_array)"
   ]
  },
  {
   "cell_type": "code",
   "execution_count": 12,
   "metadata": {},
   "outputs": [
    {
     "output_type": "execute_result",
     "data": {
      "text/plain": [
       "SVR(C=1000.0, gamma=1e-05)"
      ]
     },
     "metadata": {},
     "execution_count": 12
    }
   ],
   "source": [
    "from sklearn.svm import SVR # Create and train the Support Vector Machine \n",
    "svr_rbf = SVR(kernel='rbf', C=1e3, gamma=0.00001) #Create the model\n",
    "svr_rbf.fit(X_train, y_train) #Train the model"
   ]
  },
  {
   "cell_type": "code",
   "execution_count": 13,
   "metadata": {},
   "outputs": [
    {
     "output_type": "error",
     "ename": "AttributeError",
     "evalue": "'SVR' object has no attribute 'feature_importances_'",
     "traceback": [
      "\u001b[1;31m---------------------------------------------------------------------------\u001b[0m",
      "\u001b[1;31mAttributeError\u001b[0m                            Traceback (most recent call last)",
      "\u001b[1;32m<ipython-input-13-3386a1ec2fd3>\u001b[0m in \u001b[0;36m<module>\u001b[1;34m\u001b[0m\n\u001b[1;32m----> 1\u001b[1;33m \u001b[0mimportance\u001b[0m \u001b[1;33m=\u001b[0m \u001b[0msvr_rbf\u001b[0m\u001b[1;33m.\u001b[0m\u001b[0mfeature_importances_\u001b[0m\u001b[1;33m\u001b[0m\u001b[1;33m\u001b[0m\u001b[0m\n\u001b[0m",
      "\u001b[1;31mAttributeError\u001b[0m: 'SVR' object has no attribute 'feature_importances_'"
     ]
    }
   ],
   "source": [
    "# importance = svr_rbf.feature_importances_"
   ]
  },
  {
   "cell_type": "code",
   "execution_count": null,
   "metadata": {
    "tags": []
   },
   "outputs": [],
   "source": [
    "predictions = svr_rbf.predict(X_test)\n",
    "errors = np.sqrt(np.mean(np.square(predictions.reshape(-1,1) - y_test.reshape(-1,1) )))\n",
    "# Print out the root mean square error (rmse)\n",
    "print('RMSE:', errors)\n",
    "print('Pearson R^2 Score - Coefficient of Determination', svr_rbf.score(X_test, y_test))"
   ]
  },
  {
   "cell_type": "code",
   "execution_count": null,
   "metadata": {
    "tags": []
   },
   "outputs": [],
   "source": [
    "# Print the predicted value\n",
    "svm_prediction = svr_rbf.predict(X_test)\n",
    "print(svm_prediction)\n",
    "\n",
    "print()\n",
    "\n",
    "#Print the actual values\n",
    "print(y_test)"
   ]
  },
  {
   "cell_type": "code",
   "execution_count": null,
   "metadata": {
    "tags": []
   },
   "outputs": [],
   "source": [
    "# Print the model predictions for the next 'n' days\n",
    "svm_prediction = svr_rbf.predict(prediction_days_array)\n",
    "print(svm_prediction)"
   ]
  },
  {
   "cell_type": "code",
   "execution_count": null,
   "metadata": {},
   "outputs": [],
   "source": [
    "#Print the actual price for the next 'n' days, n=prediction_days\n",
    "df.tail(prediction_days)"
   ]
  }
 ]
}