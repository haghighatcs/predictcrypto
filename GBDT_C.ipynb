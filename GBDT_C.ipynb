{
 "metadata": {
  "language_info": {
   "codemirror_mode": {
    "name": "ipython",
    "version": 3
   },
   "file_extension": ".py",
   "mimetype": "text/x-python",
   "name": "python",
   "nbconvert_exporter": "python",
   "pygments_lexer": "ipython3",
   "version": "3.7.9-final"
  },
  "orig_nbformat": 2,
  "kernelspec": {
   "name": "Python 3.7.9 64-bit",
   "display_name": "Python 3.7.9 64-bit",
   "metadata": {
    "interpreter": {
     "hash": "4756023a4fb128e6390ae53f8b7701a85901a6fa7675a4422e3acb41ae295a0c"
    }
   }
  }
 },
 "nbformat": 4,
 "nbformat_minor": 2,
 "cells": [
  {
   "cell_type": "code",
   "execution_count": 52,
   "metadata": {
    "tags": []
   },
   "outputs": [],
   "source": [
    "# gradient boosting for classification in scikit-learn\n",
    "import pandas as pd\n",
    "import numpy as np\n",
    "\n",
    "from numpy import mean\n",
    "from numpy import std\n",
    "from sklearn.datasets import make_classification\n",
    "from sklearn.ensemble import GradientBoostingClassifier\n",
    "from sklearn.model_selection import cross_val_score\n",
    "from sklearn.model_selection import RepeatedStratifiedKFold\n",
    "from matplotlib import pyplot\n",
    "# define dataset\n",
    "# X, y = make_classification(n_samples=1000, n_features=10, n_informative=5, n_redundant=5, random_state=1)\n"
   ]
  },
  {
   "cell_type": "code",
   "execution_count": 54,
   "metadata": {},
   "outputs": [
    {
     "output_type": "execute_result",
     "data": {
      "text/plain": [
       "          BTC     ETH   XRP  USDT     BSV     BCH    LTC   EOS    BNB   ADA\n",
       "670  10242.35  351.11  0.24   1.0  169.58  224.68  47.90  2.76  24.53  0.09\n",
       "671  10363.14  368.10  0.24   1.0  166.70  227.71  48.72  2.78  24.56  0.10\n",
       "672  10400.91  374.70  0.24   1.0  167.56  225.54  49.09  2.79  25.45  0.10"
      ],
      "text/html": "<div>\n<style scoped>\n    .dataframe tbody tr th:only-of-type {\n        vertical-align: middle;\n    }\n\n    .dataframe tbody tr th {\n        vertical-align: top;\n    }\n\n    .dataframe thead th {\n        text-align: right;\n    }\n</style>\n<table border=\"1\" class=\"dataframe\">\n  <thead>\n    <tr style=\"text-align: right;\">\n      <th></th>\n      <th>BTC</th>\n      <th>ETH</th>\n      <th>XRP</th>\n      <th>USDT</th>\n      <th>BSV</th>\n      <th>BCH</th>\n      <th>LTC</th>\n      <th>EOS</th>\n      <th>BNB</th>\n      <th>ADA</th>\n    </tr>\n  </thead>\n  <tbody>\n    <tr>\n      <th>670</th>\n      <td>10242.35</td>\n      <td>351.11</td>\n      <td>0.24</td>\n      <td>1.0</td>\n      <td>169.58</td>\n      <td>224.68</td>\n      <td>47.90</td>\n      <td>2.76</td>\n      <td>24.53</td>\n      <td>0.09</td>\n    </tr>\n    <tr>\n      <th>671</th>\n      <td>10363.14</td>\n      <td>368.10</td>\n      <td>0.24</td>\n      <td>1.0</td>\n      <td>166.70</td>\n      <td>227.71</td>\n      <td>48.72</td>\n      <td>2.78</td>\n      <td>24.56</td>\n      <td>0.10</td>\n    </tr>\n    <tr>\n      <th>672</th>\n      <td>10400.91</td>\n      <td>374.70</td>\n      <td>0.24</td>\n      <td>1.0</td>\n      <td>167.56</td>\n      <td>225.54</td>\n      <td>49.09</td>\n      <td>2.79</td>\n      <td>25.45</td>\n      <td>0.10</td>\n    </tr>\n  </tbody>\n</table>\n</div>"
     },
     "metadata": {},
     "execution_count": 54
    }
   ],
   "source": [
    "data = pd.read_csv('data.csv')\n",
    "data = data.drop(columns=['Date','BTCTOMORROW'])\n",
    "data.tail(3)"
   ]
  },
  {
   "cell_type": "code",
   "execution_count": 55,
   "metadata": {},
   "outputs": [
    {
     "output_type": "execute_result",
     "data": {
      "text/plain": [
       "          BTC     ETH   XRP  USDT     BSV     BCH    LTC   EOS    BNB   ADA  \\\n",
       "662  11970.48  477.05  0.30  1.00  203.67  292.72  62.88  3.48  24.82  0.13   \n",
       "663  11414.03  440.04  0.28  1.00  183.57  264.12  58.10  3.10  24.69  0.12   \n",
       "664  10245.30  385.67  0.25  1.01  152.35  216.06  47.77  2.64  20.62  0.10   \n",
       "665  10511.81  388.24  0.26  1.00  160.56  231.87  50.61  3.01  21.06  0.10   \n",
       "666  10169.57  335.26  0.24  1.00  162.10  225.30  47.59  2.93  19.48  0.09   \n",
       "667  10280.35  353.36  0.24  1.00  163.50  228.45  48.05  2.91  23.19  0.09   \n",
       "668  10369.56  352.67  0.24  1.00  174.15  228.61  48.77  2.85  22.39  0.09   \n",
       "669  10131.52  337.60  0.24  1.00  170.57  222.54  47.38  2.76  23.19  0.09   \n",
       "670  10242.35  351.11  0.24  1.00  169.58  224.68  47.90  2.76  24.53  0.09   \n",
       "671  10363.14  368.10  0.24  1.00  166.70  227.71  48.72  2.78  24.56  0.10   \n",
       "\n",
       "     percent_change  \n",
       "662       -4.648519  \n",
       "663      -10.239416  \n",
       "664        2.601290  \n",
       "665       -3.255767  \n",
       "666        1.089328  \n",
       "667        0.867772  \n",
       "668       -2.295565  \n",
       "669        1.093913  \n",
       "670        1.179319  \n",
       "671        0.364465  "
      ],
      "text/html": "<div>\n<style scoped>\n    .dataframe tbody tr th:only-of-type {\n        vertical-align: middle;\n    }\n\n    .dataframe tbody tr th {\n        vertical-align: top;\n    }\n\n    .dataframe thead th {\n        text-align: right;\n    }\n</style>\n<table border=\"1\" class=\"dataframe\">\n  <thead>\n    <tr style=\"text-align: right;\">\n      <th></th>\n      <th>BTC</th>\n      <th>ETH</th>\n      <th>XRP</th>\n      <th>USDT</th>\n      <th>BSV</th>\n      <th>BCH</th>\n      <th>LTC</th>\n      <th>EOS</th>\n      <th>BNB</th>\n      <th>ADA</th>\n      <th>percent_change</th>\n    </tr>\n  </thead>\n  <tbody>\n    <tr>\n      <th>662</th>\n      <td>11970.48</td>\n      <td>477.05</td>\n      <td>0.30</td>\n      <td>1.00</td>\n      <td>203.67</td>\n      <td>292.72</td>\n      <td>62.88</td>\n      <td>3.48</td>\n      <td>24.82</td>\n      <td>0.13</td>\n      <td>-4.648519</td>\n    </tr>\n    <tr>\n      <th>663</th>\n      <td>11414.03</td>\n      <td>440.04</td>\n      <td>0.28</td>\n      <td>1.00</td>\n      <td>183.57</td>\n      <td>264.12</td>\n      <td>58.10</td>\n      <td>3.10</td>\n      <td>24.69</td>\n      <td>0.12</td>\n      <td>-10.239416</td>\n    </tr>\n    <tr>\n      <th>664</th>\n      <td>10245.30</td>\n      <td>385.67</td>\n      <td>0.25</td>\n      <td>1.01</td>\n      <td>152.35</td>\n      <td>216.06</td>\n      <td>47.77</td>\n      <td>2.64</td>\n      <td>20.62</td>\n      <td>0.10</td>\n      <td>2.601290</td>\n    </tr>\n    <tr>\n      <th>665</th>\n      <td>10511.81</td>\n      <td>388.24</td>\n      <td>0.26</td>\n      <td>1.00</td>\n      <td>160.56</td>\n      <td>231.87</td>\n      <td>50.61</td>\n      <td>3.01</td>\n      <td>21.06</td>\n      <td>0.10</td>\n      <td>-3.255767</td>\n    </tr>\n    <tr>\n      <th>666</th>\n      <td>10169.57</td>\n      <td>335.26</td>\n      <td>0.24</td>\n      <td>1.00</td>\n      <td>162.10</td>\n      <td>225.30</td>\n      <td>47.59</td>\n      <td>2.93</td>\n      <td>19.48</td>\n      <td>0.09</td>\n      <td>1.089328</td>\n    </tr>\n    <tr>\n      <th>667</th>\n      <td>10280.35</td>\n      <td>353.36</td>\n      <td>0.24</td>\n      <td>1.00</td>\n      <td>163.50</td>\n      <td>228.45</td>\n      <td>48.05</td>\n      <td>2.91</td>\n      <td>23.19</td>\n      <td>0.09</td>\n      <td>0.867772</td>\n    </tr>\n    <tr>\n      <th>668</th>\n      <td>10369.56</td>\n      <td>352.67</td>\n      <td>0.24</td>\n      <td>1.00</td>\n      <td>174.15</td>\n      <td>228.61</td>\n      <td>48.77</td>\n      <td>2.85</td>\n      <td>22.39</td>\n      <td>0.09</td>\n      <td>-2.295565</td>\n    </tr>\n    <tr>\n      <th>669</th>\n      <td>10131.52</td>\n      <td>337.60</td>\n      <td>0.24</td>\n      <td>1.00</td>\n      <td>170.57</td>\n      <td>222.54</td>\n      <td>47.38</td>\n      <td>2.76</td>\n      <td>23.19</td>\n      <td>0.09</td>\n      <td>1.093913</td>\n    </tr>\n    <tr>\n      <th>670</th>\n      <td>10242.35</td>\n      <td>351.11</td>\n      <td>0.24</td>\n      <td>1.00</td>\n      <td>169.58</td>\n      <td>224.68</td>\n      <td>47.90</td>\n      <td>2.76</td>\n      <td>24.53</td>\n      <td>0.09</td>\n      <td>1.179319</td>\n    </tr>\n    <tr>\n      <th>671</th>\n      <td>10363.14</td>\n      <td>368.10</td>\n      <td>0.24</td>\n      <td>1.00</td>\n      <td>166.70</td>\n      <td>227.71</td>\n      <td>48.72</td>\n      <td>2.78</td>\n      <td>24.56</td>\n      <td>0.10</td>\n      <td>0.364465</td>\n    </tr>\n  </tbody>\n</table>\n</div>"
     },
     "metadata": {},
     "execution_count": 55
    }
   ],
   "source": [
    "# Features construction \n",
    "#data['Change BTC (USD)'] = (data['BTC'].shift(-1) - data['BTC'])\n",
    "#data['GROW'] = np.where(data['Change BTC (USD)'].shift(-1) > data['Change BTC (USD)'], 1, -1)\n",
    "data['percent_change'] = ((data['BTC'].shift(-1)-data['BTC'])/data['BTC']) * 100\n",
    "data.dropna(inplace=True)\n",
    "\n",
    "# X is the input variable\n",
    "X = data\n",
    "\n",
    "# Y is the target or output variable\n",
    "y = np.where((data['BTC'].shift(-1) - data['BTC']) > 0, 1, 0)\n",
    "data.tail(10)"
   ]
  },
  {
   "cell_type": "code",
   "execution_count": 56,
   "metadata": {},
   "outputs": [
    {
     "output_type": "execute_result",
     "data": {
      "text/plain": [
       "537"
      ]
     },
     "metadata": {},
     "execution_count": 56
    }
   ],
   "source": [
    "# Total dataset length\n",
    "dataset_length = data.shape[0]\n",
    "\n",
    "# Training dataset length\n",
    "split = int(dataset_length * 0.80)\n",
    "split"
   ]
  },
  {
   "cell_type": "code",
   "execution_count": 57,
   "metadata": {},
   "outputs": [
    {
     "output_type": "stream",
     "name": "stdout",
     "text": [
      "(537, 11) (135, 11)\n(537,) (135,)\n"
     ]
    }
   ],
   "source": [
    "# Splitiing the X and y into train and test datasets\n",
    "X_train, X_test = X[:split], X[split:]\n",
    "y_train, y_test = y[:split], y[split:]\n",
    "\n",
    "# Print the size of the train and test dataset\n",
    "print(X_train.shape, X_test.shape)\n",
    "print(y_train.shape, y_test.shape)"
   ]
  },
  {
   "cell_type": "code",
   "execution_count": 58,
   "metadata": {},
   "outputs": [
    {
     "output_type": "stream",
     "name": "stdout",
     "text": [
      "Accuracy: 1.000 (0.000)\n"
     ]
    },
    {
     "output_type": "execute_result",
     "data": {
      "text/plain": [
       "GradientBoostingClassifier()"
      ]
     },
     "metadata": {},
     "execution_count": 58
    }
   ],
   "source": [
    "# evaluate the model\n",
    "cv = RepeatedStratifiedKFold(n_splits=10, n_repeats=3, random_state=1)\n",
    "n_scores = cross_val_score(model, X_train, y_train, scoring='accuracy', cv=cv, n_jobs=-1, error_score='raise')\n",
    "print('Accuracy: %.3f (%.3f)' % (mean(n_scores), std(n_scores)))\n",
    "# fit the model on the whole dataset\n",
    "model = GradientBoostingClassifier()\n",
    "model.fit(X_train, y_train)\n",
    "# make a single prediction\n",
    "# row = [[10400.91,374.7,0.24,1,167.56,225.54,49.09,2.79,25.45,0.1,10442.17]]\n",
    "# yhat = model.predict(row)\n",
    "# print('Prediction: %d' % yhat[0])"
   ]
  },
  {
   "cell_type": "code",
   "execution_count": 59,
   "metadata": {},
   "outputs": [
    {
     "output_type": "stream",
     "name": "stdout",
     "text": [
      "Correct Prediction (%):  98.51851851851852\n"
     ]
    }
   ],
   "source": [
    "from sklearn.metrics import accuracy_score\n",
    "y_pred = model.predict(X_test)\n",
    "print('Correct Prediction (%): ', accuracy_score(y_test, y_pred, normalize=True) * 100.0)"
   ]
  },
  {
   "cell_type": "code",
   "execution_count": 60,
   "metadata": {},
   "outputs": [
    {
     "output_type": "stream",
     "name": "stdout",
     "text": [
      "              precision    recall  f1-score   support\n\n           0       1.00      0.97      0.98        61\n           1       0.97      1.00      0.99        74\n\n    accuracy                           0.99       135\n   macro avg       0.99      0.98      0.98       135\nweighted avg       0.99      0.99      0.99       135\n\n"
     ]
    }
   ],
   "source": [
    "# classification report metrics\n",
    "from sklearn.metrics import classification_report\n",
    "report = classification_report(y_test, model.predict(X_test))\n",
    "print(report)"
   ]
  }
 ]
}